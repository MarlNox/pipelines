{
 "cells": [
  {
   "cell_type": "code",
   "execution_count": 11,
   "id": "0e7df565-f871-4aeb-8b42-ce133781279e",
   "metadata": {
    "tags": []
   },
   "outputs": [],
   "source": [
    "import csv\n",
    "\n",
    "with open('./sentiment/eng-sq/en-sq.deduped.txt', newline='', encoding='latin-1') as f_input:\n",
    "    tsv_reader = csv.reader(f_input)\n",
    "    with open('./sentiment/eng-sq/eoutput.csv', 'w', newline='', encoding='latin-1') as f_output:\n",
    "        csv_writer = csv.writer(f_output)\n",
    "        for row in tsv_reader:\n",
    "            csv_writer.writerow(row)\n"
   ]
  },
  {
   "cell_type": "code",
   "execution_count": 22,
   "id": "d792414a-7a35-4532-b5dc-0a1f28b195db",
   "metadata": {
    "tags": []
   },
   "outputs": [
    {
     "name": "stdout",
     "output_type": "stream",
     "text": [
      "                                                 src_text  \\\n",
      "0       Në fazën e eksplorimit, Pennine dhe Albpetrol ...   \n",
      "1       Biri i saj shkroi: “Ajo ra qetësisht në gjumin...   \n",
      "2       Janë emëruar Bordet e rregullta të Drejtorëve ...   \n",
      "3                Si e matni numrin e përdoruesve të IQOS?   \n",
      "4       E gjithë vëmëndja përqëndrohet rreth goditjes ...   \n",
      "...                                                   ...   \n",
      "507532  Ndonëse ajo e pranoi se nëpunësit e tillë si K...   \n",
      "507533  Nese sulmuesi ben faull atehere loja perfundon...   \n",
      "507534  Në fillim ata e regjistruan vajzën e madhe në ...   \n",
      "507535     Karakteristikat e shfrytëzimit të hekurudhave.   \n",
      "507536  Duket se ajo kurrë nuk u mëkëmb plotësisht në ...   \n",
      "\n",
      "                                                 trg_text  \n",
      "0       Under the Exploration Phase, Pennine and Albpe...  \n",
      "1       Her son wrote: “She quietly fell asleep in dea...  \n",
      "2       – Regular Boards of Directors have been appoin...  \n",
      "3            How do you measure the number of IQOS users?  \n",
      "4         The focus is at Evanson’s hit with Cooking.com.  \n",
      "...                                                   ...  \n",
      "507532  Though she acknowledged that officials, such a...  \n",
      "507533  If the attacker makes a foul then the game is ...  \n",
      "507534  In the beginning, they brought their eldest da...  \n",
      "507535                    Characteristics of railway use.  \n",
      "507536  It seems that it never fully recuperated after...  \n",
      "\n",
      "[507537 rows x 2 columns]\n"
     ]
    }
   ],
   "source": [
    "import pandas as pd\n",
    "\n",
    "# Load the CSV file\n",
    "df = pd.read_csv('./sentiment/eng-sq/eoutput.csv')\n",
    "\n",
    "print(new_df)"
   ]
  },
  {
   "cell_type": "code",
   "execution_count": null,
   "id": "05a3c160-3402-4f25-900d-cbc8e1546e0f",
   "metadata": {
    "tags": []
   },
   "outputs": [],
   "source": []
  },
  {
   "cell_type": "code",
   "execution_count": null,
   "id": "c06e76d7-6f7b-4ca0-9454-85989c3760b6",
   "metadata": {},
   "outputs": [],
   "source": []
  }
 ],
 "metadata": {
  "kernelspec": {
   "display_name": "Python 3 (ipykernel)",
   "language": "python",
   "name": "python3"
  },
  "language_info": {
   "codemirror_mode": {
    "name": "ipython",
    "version": 3
   },
   "file_extension": ".py",
   "mimetype": "text/x-python",
   "name": "python",
   "nbconvert_exporter": "python",
   "pygments_lexer": "ipython3",
   "version": "3.10.11"
  }
 },
 "nbformat": 4,
 "nbformat_minor": 5
}
